{
 "cells": [
  {
   "cell_type": "code",
   "execution_count": 1,
   "id": "bc0d7d13",
   "metadata": {},
   "outputs": [
    {
     "name": "stdout",
     "output_type": "stream",
     "text": [
      "enter the name:adin\n",
      "enter rollno45\n",
      "enter the mark178\n",
      "enter the mark245\n"
     ]
    }
   ],
   "source": [
    "class SMS:\n",
    "    def __init__(self):\n",
    "        self.name=[]\n",
    "        self.rollno=[]\n",
    "        self.mark1=[]\n",
    "        self.mark2=[]\n",
    "    def Accept(self):\n",
    "        name=input(\"enter the name:\")\n",
    "        roll=int(input(\"enter rollno\"))\n",
    "        mark1=int(input(\"enter the mark1\"))\n",
    "        mark2=int(input(\"enter the mark2\"))\n",
    "        self.name.append(name)\n",
    "        self.rollno.append(roll)\n",
    "        self.mark1.append(mark1)\n",
    "        self.mark2.append(mark2)\n",
    "    def display(self):\n",
    "        for i in range(len(self.name)):\n",
    "            print(\"name:\",self.name[i])\n",
    "            print(\"rollno:\",self.rollno[i])\n",
    "            print(\"mark1:\",self.mark1[i])\n",
    "            print(\"mark2:\",self.mark2[i])\n",
    "    def search(self):\n",
    "        roll=int(input(\"enter the rollno you want to search\"))\n",
    "        if roll in self.rollno:\n",
    "            r_indx=self.rollno.index(roll)\n",
    "            print(\"name:\",self.name[r_indx])\n",
    "            print(\"rollno:\",self.rollno[r_indx])\n",
    "            print(\"mark1:\",self.mark1[r_indx])\n",
    "            print(\"mark2:\",self.mark2[r_indx])\n",
    "    def delete(self):\n",
    "        roll=int(input(\"enter the rollno you want to delete\"))\n",
    "        if roll in self.rollno:\n",
    "            r_indx=self.rollno.index(roll)\n",
    "            self.name.pop(r_indx)\n",
    "            self.rollno.pop(r_indx)\n",
    "            self.mark1.pop(r_indx)\n",
    "            self.mark2.pop(r_indx)\n",
    "    def update(self):\n",
    "        old_roll=int(input(\"enter the rollno you want to change\"))\n",
    "        new_roll=int(input(\"enter the rollno\"))\n",
    "        if old_roll in self.rollno:\n",
    "            r_indx=self.rollno.index(old_roll)\n",
    "            self.rollno[r_indx]=new_roll\n",
    "\n",
    "s=SMS()\n",
    "s.Accept()"
   ]
  },
  {
   "cell_type": "code",
   "execution_count": 2,
   "id": "dc98b34f",
   "metadata": {},
   "outputs": [
    {
     "name": "stdout",
     "output_type": "stream",
     "text": [
      "enter the name:albin\n",
      "enter rollno8\n",
      "enter the mark145\n",
      "enter the mark248\n"
     ]
    }
   ],
   "source": [
    "s.Accept()"
   ]
  },
  {
   "cell_type": "code",
   "execution_count": 2,
   "id": "104b71da",
   "metadata": {},
   "outputs": [
    {
     "name": "stdout",
     "output_type": "stream",
     "text": [
      "name: adin\n",
      "rollno: 45\n",
      "mark1: 78\n",
      "mark2: 45\n"
     ]
    }
   ],
   "source": [
    "s.display()"
   ]
  },
  {
   "cell_type": "code",
   "execution_count": 4,
   "id": "071332f8",
   "metadata": {},
   "outputs": [
    {
     "name": "stdout",
     "output_type": "stream",
     "text": [
      "enter the rollno you want to search45\n",
      "name: adin\n",
      "rollno: 45\n",
      "mark1: 78\n",
      "mark2: 45\n"
     ]
    }
   ],
   "source": [
    "s.search()"
   ]
  },
  {
   "cell_type": "code",
   "execution_count": 6,
   "id": "048ebd89",
   "metadata": {},
   "outputs": [
    {
     "name": "stdout",
     "output_type": "stream",
     "text": [
      "enter the rollno you want to change7\n",
      "enter the rollno1\n"
     ]
    }
   ],
   "source": [
    "s.update()"
   ]
  },
  {
   "cell_type": "code",
   "execution_count": 7,
   "id": "5afab158",
   "metadata": {},
   "outputs": [
    {
     "name": "stdout",
     "output_type": "stream",
     "text": [
      "name: vishal\n",
      "rollno: 1\n",
      "mark1: 40\n",
      "mark2: 42\n",
      "name: abin\n",
      "rollno: 9\n",
      "mark1: 30\n",
      "mark2: 35\n"
     ]
    }
   ],
   "source": [
    "s.display()"
   ]
  },
  {
   "cell_type": "code",
   "execution_count": 8,
   "id": "389983b0",
   "metadata": {},
   "outputs": [
    {
     "name": "stdout",
     "output_type": "stream",
     "text": [
      "enter the rollno you want to delete9\n"
     ]
    }
   ],
   "source": [
    "s.delete()"
   ]
  },
  {
   "cell_type": "code",
   "execution_count": 9,
   "id": "7a9cebb1",
   "metadata": {},
   "outputs": [
    {
     "name": "stdout",
     "output_type": "stream",
     "text": [
      "name: vishal\n",
      "rollno: 1\n",
      "mark1: 40\n",
      "mark2: 42\n"
     ]
    }
   ],
   "source": [
    "s.display()"
   ]
  },
  {
   "cell_type": "code",
   "execution_count": null,
   "id": "738c17b8",
   "metadata": {},
   "outputs": [],
   "source": []
  }
 ],
 "metadata": {
  "kernelspec": {
   "display_name": "Python 3 (ipykernel)",
   "language": "python",
   "name": "python3"
  },
  "language_info": {
   "codemirror_mode": {
    "name": "ipython",
    "version": 3
   },
   "file_extension": ".py",
   "mimetype": "text/x-python",
   "name": "python",
   "nbconvert_exporter": "python",
   "pygments_lexer": "ipython3",
   "version": "3.9.13"
  }
 },
 "nbformat": 4,
 "nbformat_minor": 5
}
